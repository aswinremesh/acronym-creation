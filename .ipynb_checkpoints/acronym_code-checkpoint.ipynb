{
 "cells": [
  {
   "cell_type": "code",
   "execution_count": 9,
   "id": "acc87068",
   "metadata": {},
   "outputs": [
    {
     "name": "stdout",
     "output_type": "stream",
     "text": [
      "Enter a set of words to create an acronym: artificial intelligence\n",
      "AI\n"
     ]
    }
   ],
   "source": [
    "usr_inp=str(input(\"Enter a set of words to create an acronym: \"))\n",
    "wordset=usr_inp.split()\n",
    "a=\"\"\n",
    "for i in wordset:\n",
    "    a=a+str(i[0]).upper()\n",
    "print(a)"
   ]
  }
 ],
 "metadata": {
  "kernelspec": {
   "display_name": "Python 3",
   "language": "python",
   "name": "python3"
  },
  "language_info": {
   "codemirror_mode": {
    "name": "ipython",
    "version": 3
   },
   "file_extension": ".py",
   "mimetype": "text/x-python",
   "name": "python",
   "nbconvert_exporter": "python",
   "pygments_lexer": "ipython3",
   "version": "3.7.10"
  }
 },
 "nbformat": 4,
 "nbformat_minor": 5
}
